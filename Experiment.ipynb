{
 "cells": [
  {
   "cell_type": "code",
   "execution_count": null,
   "metadata": {
    "ExecuteTime": {
     "end_time": "2021-02-03T06:59:02.898302Z",
     "start_time": "2021-02-03T06:59:02.199110Z"
    }
   },
   "outputs": [],
   "source": [
    "from configs import *\n",
    "from Data_loader import *\n",
    "from models import *\n",
    "from utils import *\n",
    "from HML4Rec import *\n",
    "import warnings\n",
    "warnings.filterwarnings('ignore')"
   ]
  },
  {
   "cell_type": "code",
   "execution_count": null,
   "metadata": {
    "ExecuteTime": {
     "end_time": "2021-02-03T06:59:09.063829Z",
     "start_time": "2021-02-03T06:59:03.719065Z"
    }
   },
   "outputs": [],
   "source": [
    "#Preprocess dataset and generate training, develop, and test sets\n",
    "train_order, valid_order, test_order, movie_dict, user_dict, Tr_rated_dict, Rated_dict, condidate_item = prepare_dataset()"
   ]
  },
  {
   "cell_type": "code",
   "execution_count": null,
   "metadata": {
    "ExecuteTime": {
     "end_time": "2021-02-03T06:59:11.407070Z",
     "start_time": "2021-02-03T06:59:11.399572Z"
    }
   },
   "outputs": [],
   "source": [
    "#Build recommender system\n",
    "RecSys = HML4Rec(configs, train_order, valid_order, test_order, movie_dict, user_dict, Tr_rated_dict, Rated_dict, condidate_item)"
   ]
  },
  {
   "cell_type": "code",
   "execution_count": null,
   "metadata": {
    "ExecuteTime": {
     "end_time": "2021-02-03T06:59:13.738031Z",
     "start_time": "2021-02-03T06:59:13.728253Z"
    }
   },
   "outputs": [],
   "source": [
    "#Training\n",
    "RecSys.train()"
   ]
  },
  {
   "cell_type": "code",
   "execution_count": null,
   "metadata": {
    "ExecuteTime": {
     "end_time": "2021-02-03T06:59:16.347386Z",
     "start_time": "2021-02-03T06:59:16.339222Z"
    }
   },
   "outputs": [],
   "source": [
    "#Recommending\n",
    "RecSys.Recommending()"
   ]
  },
  {
   "cell_type": "code",
   "execution_count": null,
   "metadata": {
    "ExecuteTime": {
     "end_time": "2021-02-03T06:59:32.707052Z",
     "start_time": "2021-02-03T06:59:19.164490Z"
    }
   },
   "outputs": [],
   "source": [
    "#generate result figures\n",
    "Show_result()"
   ]
  }
 ],
 "metadata": {
  "kernelspec": {
   "display_name": "lizhi",
   "language": "python",
   "name": "lizhi"
  },
  "language_info": {
   "codemirror_mode": {
    "name": "ipython",
    "version": 3
   },
   "file_extension": ".py",
   "mimetype": "text/x-python",
   "name": "python",
   "nbconvert_exporter": "python",
   "pygments_lexer": "ipython3",
   "version": "3.7.9"
  },
  "toc": {
   "base_numbering": 1,
   "nav_menu": {},
   "number_sections": true,
   "sideBar": true,
   "skip_h1_title": false,
   "title_cell": "Table of Contents",
   "title_sidebar": "Contents",
   "toc_cell": false,
   "toc_position": {},
   "toc_section_display": true,
   "toc_window_display": false
  }
 },
 "nbformat": 4,
 "nbformat_minor": 4
}
